{
 "cells": [
  {
   "cell_type": "code",
   "execution_count": null,
   "id": "5405bf92-4ac5-400b-850f-4798b38bbc72",
   "metadata": {},
   "outputs": [],
   "source": []
  },
  {
   "cell_type": "markdown",
   "id": "4ed7c697",
   "metadata": {},
   "source": [
    "### Import"
   ]
  },
  {
   "cell_type": "code",
   "execution_count": 1,
   "id": "bbe95f58-ed17-42fa-847d-a8eee0b9c9ee",
   "metadata": {},
   "outputs": [],
   "source": [
    "import matplotlib.pyplot as plt\n",
    "import numpy as np\n",
    "import wave\n",
    "import sys\n",
    "import torchaudio\n",
    "import librosa\n",
    "import numpy as np\n",
    "from scipy.io.wavfile import write\n",
    "import IPython\n",
    "from collections import Counter\n",
    "import sounddevice as sd\n",
    "from math import ceil\n",
    "\n",
    "%matplotlib inline"
   ]
  },
  {
   "cell_type": "code",
   "execution_count": null,
   "id": "979d40bb-2aba-4941-877c-683870ddaffe",
   "metadata": {},
   "outputs": [],
   "source": []
  },
  {
   "cell_type": "markdown",
   "id": "2fe69902",
   "metadata": {},
   "source": [
    "### Read / Record"
   ]
  },
  {
   "cell_type": "code",
   "execution_count": 2,
   "id": "3d1bc224",
   "metadata": {},
   "outputs": [],
   "source": [
    "t = 'أَرْبَعَة، عَدَمْ تَحْمِيلْ أَيِّ مَوَادْ أَوْ مَعْلُومَاتْ أَوْ مَلَفَّاتْ تَحْتَوِي عَلَىْ ب^َرْمَجِيَّاتْ أَوْ مَوَادْ أُخْرَى مَحْمِيَّة بِقَوَانِينْ الْمِلْكِيَّة اْلْفِكْرِيَّة، أَوْ بِحِقُوقْ خُصُوْصِيِّةْ النَّشْرِ مَا لَمْ يَكُنْ مَالِكًا لَهَا وَ لِحُقُوقِهَا، أَوْ صَاحِبْ السَّيْطَرَة عَلَىْ حُقُوقِهَا، أَوْ لَدَيْهِ جَمِيعْ الْمُوَافَقَاتْ اللَّازِمَة لِعَمَلِ ذَلِكْ .'\n",
    "t1 = 'أَنَاْ بَعْتِزِرْ لِح^َضْرِت^َكْ يَاْ فَنْدِمْ، مَفِيشْ رَصِيدْ كَافِي لْتَجْدِيدْ ب^َاقِةْ فِلِيْكْسْ، يَاْر<يتْ نِشْحِنْ بِ جِن<يه، وُ اطْلُبْ كُودْ نِجْمَة مِت<ينْ خ^َمْسَة وْعِشْرِينْ شِبَّاكْ، عَشَانْ تِجَدِّدْ ب^َاقِةْ فِلِيْكْسْ الْخَاصَّة بْخَطَّكْ، وِالْب^َاقَة هَتِتْجَدِّدْ تِلْقَائِيًّا خِلَالْ عِشْرِينْ دِقِيقَة، وِلَوْ حَابِبْ فِ أَيِّ وَقْتِ تِعْرَفْ تَارِيخْ تَجْدِيدْ ب^َاقِةْ فِلِيْكْسْ مُمْكِنْ عَنْ طَرِيقْ ت^َطْبِيقْ أَنَا فُدَف>ونْ .'\n",
    "t2 = 'أَنَاْ رَاْجِعْتِ حْسَابْ ح^َضْرِت^َكْ، وِح^َضْرِت^َكْ بِالْفِعْلِ بْتِسْتَمْتِعْ بِخِدْمِةْ الْوَاتْسَابْ الْمَجَّانِيَّة، وِدِي بْتِدِّي لْح^َضْرِت^َكْ مِت<ينْ م<يجَا بِالسُّرْع^َة اْلْعَادِيَّة، وِفْ حَالْ انْتِهَاءْ مِت<ينْ م<يجَا هَتْقِلّْ السُّرْع^َة، وِلَوْ حَابِبْ تَسْتَرِدّْ السُّرْع^َة بَعْدْ انْتِهَاءْ مِت<ينْ م<يجَا هَتِطْلُبْ الْكُودْ، نِجْمَة تُمْنُمِيَّة وْتَمَاْنِينْ نِجْمَة وَاحِدْ وِخ^َمْسِينْ شِبَّاكْ، وِهَيْتِمِّ مُحَاْسْبِتَكْ حَسَبْ نِظَام^َكْ، هَلْ تَرْغ^َبْ ؟'"
   ]
  },
  {
   "cell_type": "code",
   "execution_count": 9,
   "id": "53041046-ca55-4947-8d38-e9a886e5fe74",
   "metadata": {},
   "outputs": [
    {
     "data": {
      "text/plain": [
       "((553984,), 22050)"
      ]
     },
     "execution_count": 9,
     "metadata": {},
     "output_type": "execute_result"
    }
   ],
   "source": [
    "wave_arr , sr = librosa.load(\"output.wav\")\n",
    "wave_arr.shape, sr"
   ]
  },
  {
   "cell_type": "code",
   "execution_count": null,
   "id": "2abb9330",
   "metadata": {},
   "outputs": [],
   "source": []
  },
  {
   "cell_type": "code",
   "execution_count": null,
   "id": "46a9425f",
   "metadata": {},
   "outputs": [],
   "source": []
  },
  {
   "cell_type": "code",
   "execution_count": null,
   "id": "1c9344fa",
   "metadata": {},
   "outputs": [],
   "source": []
  },
  {
   "cell_type": "markdown",
   "id": "c7ef8335",
   "metadata": {},
   "source": [
    "### Count silence"
   ]
  },
  {
   "cell_type": "code",
   "execution_count": 25,
   "id": "53530b2b-0925-47f6-bc97-5c416567ceda",
   "metadata": {},
   "outputs": [],
   "source": [
    "s = 0 ; peaks_All = [] ; pos = []\n",
    "\n",
    "while(s<len(wave_arr)):\n",
    "    arr = (abs(wave_arr[s:s+500])*1000).astype(int)\n",
    "    zero_percent = len([a for a in arr if (a<=5)])/len(arr)*100\n",
    "    if(zero_percent<=50):\n",
    "        peaks_All.append(zero_percent)\n",
    "    else:\n",
    "        peaks_All.append(0)\n",
    "    pos.append(s)\n",
    "    s = s + 500"
   ]
  },
  {
   "cell_type": "code",
   "execution_count": null,
   "id": "652027c0",
   "metadata": {},
   "outputs": [],
   "source": []
  },
  {
   "cell_type": "code",
   "execution_count": null,
   "id": "9e7029db",
   "metadata": {},
   "outputs": [],
   "source": []
  },
  {
   "cell_type": "code",
   "execution_count": null,
   "id": "09549a45",
   "metadata": {},
   "outputs": [],
   "source": []
  },
  {
   "cell_type": "markdown",
   "id": "cbef90ef",
   "metadata": {},
   "source": [
    "### Detect beginning of wave"
   ]
  },
  {
   "cell_type": "code",
   "execution_count": 26,
   "id": "0b2c2d21-f8e0-458f-aed2-461f1be89ade",
   "metadata": {},
   "outputs": [],
   "source": [
    "peaks_Begin = []\n",
    "for i in range(len(peaks_All)-1):\n",
    "    if((int(peaks_All[i]==0)) and (int(peaks_All[i+1]!=0))):\n",
    "        peaks_Begin.append(pos[i])"
   ]
  },
  {
   "cell_type": "code",
   "execution_count": null,
   "id": "0de5ec84",
   "metadata": {},
   "outputs": [],
   "source": []
  },
  {
   "cell_type": "code",
   "execution_count": null,
   "id": "7f9bf8d3",
   "metadata": {},
   "outputs": [],
   "source": []
  },
  {
   "cell_type": "code",
   "execution_count": null,
   "id": "35b13596",
   "metadata": {},
   "outputs": [],
   "source": []
  },
  {
   "cell_type": "markdown",
   "id": "f9c24baf",
   "metadata": {},
   "source": [
    "### Remove noise & near splits"
   ]
  },
  {
   "cell_type": "code",
   "execution_count": 27,
   "id": "9526387d-8248-4f2a-a87f-3d4e9963772d",
   "metadata": {},
   "outputs": [],
   "source": [
    "#remove false splits  @ noise\n",
    "pos_last = []\n",
    "for i in range(len(peaks_Begin)-1):\n",
    "    if(int(np.max(wave_arr[peaks_Begin[i]:peaks_Begin[i+1]])*10) > 0):\n",
    "        pos_last.append(peaks_Begin[i])\n",
    "pos_last.append(peaks_Begin[-1])\n",
    "pos_last.append(len(wave_arr))\n",
    "\n",
    "#remove near peaks\n",
    "pos_lastt = []\n",
    "for i in range(len(pos_last)-1):\n",
    "    if(abs(pos_last[i]-pos_last[i+1]) >= sr/4):\n",
    "        pos_lastt.append(pos_last[i])\n",
    "\n",
    "pos_lastt.append(pos_last[-1])"
   ]
  },
  {
   "cell_type": "code",
   "execution_count": null,
   "id": "ae1682f6",
   "metadata": {},
   "outputs": [],
   "source": []
  },
  {
   "cell_type": "code",
   "execution_count": null,
   "id": "5c094d0f",
   "metadata": {},
   "outputs": [],
   "source": []
  },
  {
   "cell_type": "code",
   "execution_count": null,
   "id": "a2ac00a6",
   "metadata": {},
   "outputs": [],
   "source": []
  },
  {
   "cell_type": "markdown",
   "id": "8055baa1",
   "metadata": {},
   "source": [
    "### Plot"
   ]
  },
  {
   "cell_type": "code",
   "execution_count": 28,
   "id": "0388e125-6f35-494d-993b-372bf4469dcc",
   "metadata": {},
   "outputs": [
    {
     "data": {
      "image/png": "[encoded data removed]",
      "text/plain": [
       "<Figure size 432x288 with 1 Axes>"
      ]
     },
     "metadata": {
      "needs_background": "light"
     },
     "output_type": "display_data"
    }
   ],
   "source": [
    "plt.plot(wave_arr[:])\n",
    "for i in range(len(pos_last)):\n",
    "    plt.axvline(x=pos_last[i],color=\"black\")\n",
    "for i in range(len(pos_lastt)):\n",
    "    plt.axvline(x=pos_lastt[i],color=\"red\")\n",
    "plt.show()"
   ]
  },
  {
   "cell_type": "code",
   "execution_count": null,
   "id": "a432d7f0",
   "metadata": {},
   "outputs": [],
   "source": []
  },
  {
   "cell_type": "code",
   "execution_count": null,
   "id": "f11f65f4",
   "metadata": {},
   "outputs": [],
   "source": []
  },
  {
   "cell_type": "markdown",
   "id": "35363df1",
   "metadata": {},
   "source": [
    "### Write splits"
   ]
  },
  {
   "cell_type": "code",
   "execution_count": 29,
   "id": "d44f57c4",
   "metadata": {},
   "outputs": [],
   "source": [
    "# delete last ones\n",
    "import os, shutil\n",
    "folder = 'splits/'\n",
    "for filename in os.listdir(folder):\n",
    "    file_path = os.path.join(folder, filename)\n",
    "    try:\n",
    "        if os.path.isfile(file_path) or os.path.islink(file_path):\n",
    "            os.unlink(file_path)\n",
    "        elif os.path.isdir(file_path):\n",
    "            shutil.rmtree(file_path)\n",
    "    except Exception as e:\n",
    "        print('Failed to delete %s. Reason: %s' % (file_path, e))"
   ]
  },
  {
   "cell_type": "code",
   "execution_count": 30,
   "id": "29433cf2",
   "metadata": {},
   "outputs": [],
   "source": [
    "for n in range(len(pos_lastt)-1):\n",
    "    write(\"splits/split_\"+ str(n) + \".wav\", sr, wave_arr[pos_lastt[n]:pos_lastt[n+1]])\n",
    "    n+=1"
   ]
  },
  {
   "cell_type": "code",
   "execution_count": 31,
   "id": "d6e67617-1bf8-467d-b20a-7b12a12aa357",
   "metadata": {},
   "outputs": [
    {
     "name": "stdout",
     "output_type": "stream",
     "text": [
      "splits/split_0.wav  :  1.5192743764172336\n",
      "splits/split_1.wav  :  2.3356009070294785\n",
      "splits/split_2.wav  :  1.383219954648526\n",
      "splits/split_3.wav  :  2.877596371882086\n"
     ]
    }
   ],
   "source": [
    "import os\n",
    "p = \"splits/\"\n",
    "splits_paths = [p+i for i in os.listdir(p)]\n",
    "\n",
    "for  i in splits_paths:\n",
    "    print(i ,  \" : \", librosa.get_duration(filename=i))"
   ]
  },
  {
   "cell_type": "code",
   "execution_count": null,
   "id": "506846e4-62ee-44c8-8da5-39d2d201dcaa",
   "metadata": {},
   "outputs": [],
   "source": []
  },
  {
   "cell_type": "code",
   "execution_count": null,
   "id": "5433e903-db71-4533-a4a7-3a92d0bb3e67",
   "metadata": {},
   "outputs": [],
   "source": []
  },
  {
   "cell_type": "code",
   "execution_count": null,
   "id": "e238854c-8f8d-4eb0-a669-78c871965cc4",
   "metadata": {},
   "outputs": [],
   "source": []
  },
  {
   "cell_type": "code",
   "execution_count": null,
   "id": "2ea32293-368a-41d8-8c62-6b77badc6b25",
   "metadata": {},
   "outputs": [],
   "source": []
  },
  {
   "cell_type": "code",
   "execution_count": null,
   "id": "0e052594-7922-4436-8491-9df7b7d73b33",
   "metadata": {},
   "outputs": [],
   "source": []
  },
  {
   "cell_type": "code",
   "execution_count": null,
   "id": "aa5abf64-8aba-48b6-919a-b73cf8f360ff",
   "metadata": {},
   "outputs": [],
   "source": []
  },
  {
   "cell_type": "code",
   "execution_count": null,
   "id": "712966ba-68fd-4c86-aa72-95c5d8e96465",
   "metadata": {},
   "outputs": [],
   "source": []
  }
 ],
 "metadata": {
  "kernelspec": {
   "display_name": "Python 3.7.8 64-bit",
   "language": "python",
   "name": "python3"
  },
  "language_info": {
   "codemirror_mode": {
    "name": "ipython",
    "version": 3
   },
   "file_extension": ".py",
   "mimetype": "text/x-python",
   "name": "python",
   "nbconvert_exporter": "python",
   "pygments_lexer": "ipython3",
   "version": "3.7.8"
  },
  "vscode": {
   "interpreter": {
    "hash": "5e01c88de19db90c9077f7db78d97eedc0e3926f9df1360bb765a01a340e27c0"
   }
  }
 },
 "nbformat": 4,
 "nbformat_minor": 5
}
